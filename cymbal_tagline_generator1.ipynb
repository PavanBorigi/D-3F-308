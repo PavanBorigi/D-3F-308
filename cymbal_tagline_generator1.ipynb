{
  "nbformat": 4,
  "nbformat_minor": 0,
  "metadata": {
    "colab": {
      "provenance": [],
      "authorship_tag": "ABX9TyMpVy/vYXTAvLwWT/hSXOlZ",
      "include_colab_link": true
    },
    "kernelspec": {
      "name": "python3",
      "display_name": "Python 3"
    },
    "language_info": {
      "name": "python"
    }
  },
  "cells": [
    {
      "cell_type": "markdown",
      "metadata": {
        "id": "view-in-github",
        "colab_type": "text"
      },
      "source": [
        "<a href=\"https://colab.research.google.com/github/PavanBorigi/D-3F-308/blob/main/cymbal_tagline_generator1.ipynb\" target=\"_parent\"><img src=\"https://colab.research.google.com/assets/colab-badge.svg\" alt=\"Open In Colab\"/></a>"
      ]
    },
    {
      "cell_type": "code",
      "execution_count": null,
      "metadata": {
        "id": "hcyHLCZU203L"
      },
      "outputs": [],
      "source": [
        "{\n",
        "  \"title\": \"Cymbal Tagline Generator Template\",\n",
        "  \"description\": \"\",\n",
        "  \"parameters\": {\n",
        "    \"groundingPromptConfig\": {\n",
        "      \"disabled\": true,\n",
        "      \"groundingConfig\": {\n",
        "        \"sources\": [\n",
        "          {\n",
        "            \"type\": \"VERTEX_AI_SEARCH\"\n",
        "          }\n",
        "        ]\n",
        "      }\n",
        "    },\n",
        "    \"stopSequences\": [],\n",
        "    \"temperature\": 1,\n",
        "    \"tokenLimits\": 2048,\n",
        "    \"topP\": 1\n",
        "  },\n",
        "  \"type\": \"structured\",\n",
        "  \"context\": \"Cymbal Direct is partnering with an outdoor gear retailer. They're launching a new line of products designed to encourage young people to explore the outdoors. Help them create catchy taglines for this product line.\",\n",
        "  \"inputPrefixes\": [\n",
        "    \"\"\n",
        "  ],\n",
        "  \"outputPrefixes\": [\n",
        "    \"\"\n",
        "  ],\n",
        "  \"examples\": [\n",
        "    {\n",
        "      \"inputs\": [\n",
        "        \"Write a tagline for a durable backpack designed for hikers that makes them feel prepared. Consider styles like minimalist.\\t\"\n",
        "      ],\n",
        "      \"outputs\": [\n",
        "        \"Built for the Journey: Your Adventure Essentials.\\n\"\n",
        "      ]\n",
        "    }\n",
        "  ],\n",
        "  \"testData\": [\n",
        "    {\n",
        "      \"inputs\": [\n",
        "        \"Based on the results, fine-tune the wording of your prompt, add more parameter options, or adjust the style choices to achieve your desired outcome.\\n\"\n",
        "      ]\n",
        "    }\n",
        "  ],\n",
        "  \"systemInstruction\": \"\",\n",
        "  \"model\": \"gemini-1.5-pro\"\n",
        "}"
      ]
    }
  ]
}